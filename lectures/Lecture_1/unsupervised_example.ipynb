{
 "cells": [
  {
   "cell_type": "markdown",
   "id": "89a803bd-86ad-4287-97a4-acea57bef95e",
   "metadata": {},
   "source": [
    "# Learning from Big Data: Module 1 - Natural Language Processing\n",
    "\n",
    "#### Session 1 - Getting familiar with Unsupervised Learning"
   ]
  },
  {
   "cell_type": "markdown",
   "id": "f4d3f2e9-4c56-4676-93c0-40a5266dec32",
   "metadata": {},
   "source": [
    "# Introduction"
   ]
  },
  {
   "cell_type": "markdown",
   "id": "cf428e0b-c77b-4c0e-b967-d08c3f8e46f1",
   "metadata": {},
   "source": [
    "This is a first, rather simple, script that has the goals of **(1)** getting you familiar with `Python` and `Juypyter Notebooks` (if you are not yet so) and **(2)** having you to black-box run very simple **Unsupervised Learning** task - a cluster analysis to group observations based on their *similarity*. For now, this is done by calling the `kmeans` functions from the `sklearn` library (for documentation, click [here](https://scikitlearn.org/stable/modules/generated/sklearn.cluster.KMeans.html)).\n",
    "\n",
    "In **clustering**, our goal is to maximize within-cluster homogeneity while making the clusters as different as possible; in other words, we wish to find the set of clusters such that observations within each cluster are as similar to each other as possible, while the clusters (more specifically, their means) are as different from each other as possible. This is a classical example of **unsupervised learning**.\n",
    "\n",
    "For now, I will not ask you to \"open the black box\" and explain how this specific unsupervised machine learning algorithm works. We will have time to explore the mechanics and details of specific NLP-appropriate supervised- and unsupervised- learning algorithms in the coming lectures and assignments."
   ]
  },
  {
   "cell_type": "markdown",
   "id": "699ef905-bf62-4357-b5a5-24d97b62f09f",
   "metadata": {},
   "source": [
    "# Loading Packages"
   ]
  },
  {
   "cell_type": "markdown",
   "id": "12f3c783-e41c-4328-9347-c395d1da6783",
   "metadata": {},
   "source": [
    "Before starting, make sure you have all the required packages properly installed. Simply run the code block in the cell below."
   ]
  },
  {
   "cell_type": "code",
   "execution_count": 39,
   "id": "409e5333-0592-48c1-b470-e36604046d1e",
   "metadata": {},
   "outputs": [],
   "source": [
    "# Packages required for the subsequent analysis\n",
    "import numpy as np\n",
    "import pandas as pd\n",
    "import seaborn as sns\n",
    "import matplotlib.pyplot as plt\n",
    "from sklearn.cluster import KMeans\n",
    "from sklearn.metrics import confusion_matrix\n",
    "from sklearn.datasets import load_iris"
   ]
  },
  {
   "cell_type": "markdown",
   "id": "386e0997-88a3-44b1-b811-f7121f64aac4",
   "metadata": {},
   "source": [
    "# 1. Load and Prepare the Data"
   ]
  },
  {
   "cell_type": "markdown",
   "id": "82d907c8-cb25-4ed3-994b-2666c6f58fa8",
   "metadata": {},
   "source": [
    "We will use the famous **Iris** dataset (https://en.wikipedia.org/wiki/Iris_flower_data_set) because it is simple, appropriate for classification, and comes built-in `sklearn` (in `sklearn.datasets`). In the next tutorials, we will be loading the data ourselves, typically by reading the csv files (using the `read_csv()` function from the `pandas` package)."
   ]
  },
  {
   "cell_type": "markdown",
   "id": "858d22d2-5a6e-4f17-8c7d-616f2f1f29a8",
   "metadata": {},
   "source": [
    "![Sepal and Petal](440px-Petal-sepal.jpg)\n",
    "\n",
    "Figure: Sepal and Petal, source: [wikipedia](https://en.wikipedia.org/wiki/Iris_flower_data_set)."
   ]
  },
  {
   "cell_type": "markdown",
   "id": "fa4c8ab5-90a8-4a23-95df-8d105604c68c",
   "metadata": {},
   "source": [
    "The dataset has basically four variables: the length and width (in centimeters) of the flower sepal and petal. The goal is to use these variables to identify the species."
   ]
  },
  {
   "cell_type": "code",
   "execution_count": 40,
   "id": "672fc468-c15b-4102-adcf-3662e6c3d950",
   "metadata": {},
   "outputs": [
    {
     "name": "stdout",
     "output_type": "stream",
     "text": [
      "Feature names:\n",
      " ['sepal length (cm)', 'sepal width (cm)', 'petal length (cm)', 'petal width (cm)']\n",
      "\n",
      "Target names:\n",
      " ['setosa' 'versicolor' 'virginica']\n"
     ]
    }
   ],
   "source": [
    "# Here, we load the Iris dataset from sklearn\n",
    "data = load_iris()\n",
    "\n",
    "# Printing the feature names\n",
    "print(f\"Feature names:\\n {data.feature_names}\\n\")\n",
    "\n",
    "# Printing the target names (of response variable)\n",
    "print(f\"Target names:\\n {data.target_names}\")"
   ]
  },
  {
   "cell_type": "markdown",
   "id": "c0e946c4-d823-4354-9e44-a9d56eee3099",
   "metadata": {},
   "source": [
    "### Extracting the features from the data"
   ]
  },
  {
   "cell_type": "code",
   "execution_count": 41,
   "id": "fec70959-d286-4690-8713-bcf459f604e2",
   "metadata": {},
   "outputs": [
    {
     "name": "stdout",
     "output_type": "stream",
     "text": [
      "There are a total of 150 observations (rows)\n",
      "There are a total of 4 features (columns) \n",
      "\n",
      "   sepal length (cm)  sepal width (cm)  petal length (cm)  petal width (cm)\n",
      "0                5.1               3.5                1.4               0.2\n",
      "1                4.9               3.0                1.4               0.2\n",
      "2                4.7               3.2                1.3               0.2\n",
      "3                4.6               3.1                1.5               0.2\n",
      "4                5.0               3.6                1.4               0.2\n",
      "\n"
     ]
    }
   ],
   "source": [
    "# Extracting the features from data\n",
    "X = pd.DataFrame(data.data, columns=data.feature_names)\n",
    "\n",
    "# Printing the dimensions:\n",
    "print(f\"There are a total of {X.shape[0]} observations (rows)\")\n",
    "print(f\"There are a total of {X.shape[1]} features (columns) \\n\")\n",
    "\n",
    "# First 5 rows of the features:\n",
    "print(f\"{X.head()}\\n\")\n",
    "\n",
    "# Printing information:\n",
    "#print(X.info())"
   ]
  },
  {
   "cell_type": "markdown",
   "id": "d58ca075-0c94-4439-9947-a1c319941a22",
   "metadata": {},
   "source": [
    "### Extracting the target variable from the data"
   ]
  },
  {
   "cell_type": "code",
   "execution_count": 42,
   "id": "c08301c1-8b24-4217-a282-75c8417c5f79",
   "metadata": {},
   "outputs": [
    {
     "name": "stdout",
     "output_type": "stream",
     "text": [
      "There are a total of 150 observations (rows)\n",
      "\n",
      "   target\n",
      "0       0\n",
      "1       0\n",
      "2       0\n",
      "3       0\n",
      "4       0\n",
      "\n"
     ]
    }
   ],
   "source": [
    "# Extracting the target from data ['setosa', 'versicolor', 'virginica'] -> [0, 1, 2]\n",
    "y = pd.DataFrame(data.target, columns=[\"target\"])\n",
    "\n",
    "# Printing the number of observations:\n",
    "print(f\"There are a total of {y.shape[0]} observations (rows)\\n\")\n",
    "\n",
    "# Printing the first 5 rows:\n",
    "print(f\"{y.head()}\\n\")"
   ]
  },
  {
   "cell_type": "markdown",
   "id": "db062ddf-ac97-4b72-b353-c54507f33db3",
   "metadata": {},
   "source": [
    "# 2. Fitting a K-Means clustering model to the training data"
   ]
  },
  {
   "cell_type": "markdown",
   "id": "2102f977-df25-4a15-9747-0da8d33c5e34",
   "metadata": {},
   "source": [
    "Now, we wil fit a clistering model using the `K-Means` algorithm. **Note** that this requires us to specify, a priori, the number of clusters we want the algorithm to produce. In this example, we set it equal to `3`."
   ]
  },
  {
   "cell_type": "code",
   "execution_count": 43,
   "id": "2cf73dbc-dc64-41d8-bd10-77ab5f0e1572",
   "metadata": {},
   "outputs": [
    {
     "name": "stdout",
     "output_type": "stream",
     "text": [
      "WCSS: 78.85144142614601\n"
     ]
    }
   ],
   "source": [
    "# Setting random seed for reproducibility\n",
    "np.random.seed(100)\n",
    "\n",
    "# Defining the K-Means model\n",
    "kmeans = KMeans(n_clusters=3, n_init=20)\n",
    "\n",
    "# Fitting the k-means to the Iris data\n",
    "kmeans.fit(X)\n",
    "\n",
    "# Total within-cluster sum of squares (WCSS)\n",
    "print(f\"WCSS: {kmeans.inertia_}\")"
   ]
  },
  {
   "cell_type": "markdown",
   "id": "3767325b-2c06-48f5-8fcc-ba75ba0f2325",
   "metadata": {},
   "source": [
    "### Here are some summary statistics in the three identified clusters:"
   ]
  },
  {
   "cell_type": "markdown",
   "id": "ae2f3cc1-85f3-4f7a-9ba1-d22dc89d4faf",
   "metadata": {},
   "source": [
    "#### K-means clustering with 3 clusters of the sizes:"
   ]
  },
  {
   "cell_type": "code",
   "execution_count": 44,
   "id": "0d508cc0-f76c-458b-a63c-46a8f6dd5f66",
   "metadata": {},
   "outputs": [
    {
     "name": "stdout",
     "output_type": "stream",
     "text": [
      "Cluster 0: has size 38\n",
      "Cluster 1: has size 50\n",
      "Cluster 2: has size 62\n"
     ]
    }
   ],
   "source": [
    "# Cluster assignments\n",
    "labels = kmeans.labels_\n",
    "\n",
    "# Counting the number of observations per cluster\n",
    "unique, counts = np.unique(labels, return_counts=True)\n",
    "\n",
    "# Printing the sizes of the clusters\n",
    "for cluster, count in zip(unique, counts):\n",
    "    print(f\"Cluster {cluster}: has size {count}\")"
   ]
  },
  {
   "cell_type": "markdown",
   "id": "edd488a6-ac06-4059-92fd-b543a94bf594",
   "metadata": {},
   "source": [
    "#### Cluster means:"
   ]
  },
  {
   "cell_type": "code",
   "execution_count": 45,
   "id": "30e4863d-cea6-4f3a-b802-03db43d56031",
   "metadata": {},
   "outputs": [
    {
     "name": "stdout",
     "output_type": "stream",
     "text": [
      "Cluster means:\n",
      "    sepal length (cm)  sepal width (cm)  petal length (cm)  petal width (cm)\n",
      "0           6.850000          3.073684           5.742105          2.071053\n",
      "1           5.006000          3.428000           1.462000          0.246000\n",
      "2           5.901613          2.748387           4.393548          1.433871\n"
     ]
    }
   ],
   "source": [
    "# Cluster centers\n",
    "centers = kmeans.cluster_centers_\n",
    "\n",
    "center_df = pd.DataFrame(centers, columns=X.columns)\n",
    "print(f\"Cluster means:\\n {center_df}\")"
   ]
  },
  {
   "cell_type": "markdown",
   "id": "67d8eb6a-92c4-4433-a019-c7408d20a618",
   "metadata": {},
   "source": [
    "# 3. Identify the cluster for each observation"
   ]
  },
  {
   "cell_type": "code",
   "execution_count": 46,
   "id": "04028376-89a5-47ef-b3c5-00b96b263cd5",
   "metadata": {},
   "outputs": [
    {
     "name": "stdout",
     "output_type": "stream",
     "text": [
      "[1 1 1 1 1 1 1 1 1 1 1 1 1 1 1 1 1 1 1 1 1 1 1 1 1 1 1 1 1 1 1 1 1 1 1 1 1\n",
      " 1 1 1 1 1 1 1 1 1 1 1 1 1 2 2 0 2 2 2 2 2 2 2 2 2 2 2 2 2 2 2 2 2 2 2 2 2\n",
      " 2 2 2 0 2 2 2 2 2 2 2 2 2 2 2 2 2 2 2 2 2 2 2 2 2 2 0 2 0 0 0 0 2 0 0 0 0\n",
      " 0 0 2 2 0 0 0 0 2 0 2 0 2 0 0 2 2 0 0 0 0 0 2 0 0 0 0 2 0 0 0 2 0 0 0 2 0\n",
      " 0 2]\n"
     ]
    }
   ],
   "source": [
    "# Cluster assignments\n",
    "print(kmeans.labels_)"
   ]
  },
  {
   "cell_type": "markdown",
   "id": "b13623e4-ae37-484c-97b1-f86b147a1a08",
   "metadata": {},
   "source": [
    "# 4. How well does the classification do?"
   ]
  },
  {
   "cell_type": "markdown",
   "id": "5ec1f32e-5442-47aa-b549-7bd5f3a68bae",
   "metadata": {},
   "source": [
    "To check the performance of our algorithm, we compare the `clusters` against the `ground truth`, i.e., the actual species, which if found in the variable `species` in the dataset. **Note** that we have not used the variable `species` so far; we only use the dimension of the sepal and petal to create the clusters; now we will see how much hit and how much miss we got in this task."
   ]
  },
  {
   "cell_type": "code",
   "execution_count": 47,
   "id": "5ba3bb72-98b6-468a-aabc-b4bc7095ccd7",
   "metadata": {},
   "outputs": [],
   "source": [
    "# Getting the predicted labels\n",
    "predicted = kmeans.labels_"
   ]
  },
  {
   "cell_type": "markdown",
   "id": "f878450a-6e5a-44d0-9207-bb04b9c84a20",
   "metadata": {},
   "source": [
    "**Note** that the numbering of the predicted clusters may not match the original labels in the Iris dataset, because k-means does not know anything about the original labels and just assigns numbers to the clusters it finds. We need to manually adjust the predicted labels to align them with the original labels, based on examining the confusion matrix and/or the centroids of the clusters."
   ]
  },
  {
   "cell_type": "code",
   "execution_count": 48,
   "id": "69e6adfd-1d0b-48cb-9806-a24b6016e1fe",
   "metadata": {},
   "outputs": [
    {
     "name": "stdout",
     "output_type": "stream",
     "text": [
      "            predicted setosa  predicted versicolor  predicted virginica\n",
      "setosa                    50                     0                    0\n",
      "versicolor                 0                    48                    2\n",
      "virginica                  0                    14                   36\n"
     ]
    }
   ],
   "source": [
    "# Manually create a mapping from predicted cluster to actual class\n",
    "mapping = {0: 2, # mapping 0 to 2 (2 is virginica)\n",
    "           1: 0, # mapping 1 to 0 (O is setosa)\n",
    "           2: 1} # mapping 2 to 1 (1 is versicolor)\n",
    "\n",
    "# Apply mapping to predicted labels\n",
    "predicted_mapped = np.vectorize(mapping.get)(predicted)\n",
    "\n",
    "# Generate confusion matrix\n",
    "confus_matrix = confusion_matrix(y, predicted_mapped)\n",
    "\n",
    "# Create a DataFrame for better visualization\n",
    "confus_df = pd.DataFrame(confus_matrix, \n",
    "                       index=data.target_names, \n",
    "                       columns=[f'predicted {label}' for label in data.target_names])\n",
    "\n",
    "print(confus_df)"
   ]
  },
  {
   "cell_type": "markdown",
   "id": "a5cc6beb-6f5f-4dcb-b6ce-22f426fabcf7",
   "metadata": {},
   "source": [
    "# 5. Let's look at the clusters"
   ]
  },
  {
   "cell_type": "code",
   "execution_count": 49,
   "id": "15060d09-42d6-4f70-890e-02d0e266a46d",
   "metadata": {},
   "outputs": [
    {
     "data": {
      "image/png": "[encoded data removed]",
      "text/plain": [
       "<Figure size 1000x500 with 1 Axes>"
      ]
     },
     "metadata": {},
     "output_type": "display_data"
    }
   ],
   "source": [
    "# Loading the Iris dataset again\n",
    "iris_df = pd.DataFrame(X, columns=data.feature_names)\n",
    "\n",
    "# Mapping cluster labels to colors\n",
    "colors = []\n",
    "for label in predicted_mapped:\n",
    "    if label == 0:\n",
    "        colors.append('red')\n",
    "    elif label == 1:\n",
    "        colors.append('green')\n",
    "    elif label == 2:\n",
    "        colors.append('blue')\n",
    "\n",
    "# Create scatterplot\n",
    "plt.figure(figsize=(10, 5))\n",
    "plt.scatter(iris_df['sepal length (cm)'], iris_df['sepal width (cm)'], c=colors)\n",
    "plt.title('K-means with 3 clusters')\n",
    "plt.xlabel('Sepal Length')\n",
    "plt.ylabel('Sepal Width')\n",
    "plt.show()"
   ]
  },
  {
   "cell_type": "code",
   "execution_count": 50,
   "id": "94738243-4c1a-4a92-8836-dbc987597e5a",
   "metadata": {},
   "outputs": [
    {
     "data": {
      "image/png": "[encoded data removed]",
      "text/plain": [
       "<Figure size 500x500 with 1 Axes>"
      ]
     },
     "metadata": {},
     "output_type": "display_data"
    }
   ],
   "source": [
    "# Add predicted labels to dataframe\n",
    "iris_df['predicted'] = predicted_mapped\n",
    "\n",
    "# Define color mapping\n",
    "color_map = {0: 'red', 1: 'green', 2: 'blue'}\n",
    "\n",
    "# Map predicted labels to colors\n",
    "iris_df['color'] = iris_df['predicted'].map(color_map)\n",
    "\n",
    "# Create lmplot\n",
    "sns.lmplot(data=iris_df, x='sepal length (cm)', y='sepal width (cm)', hue='color', \n",
    "           fit_reg=False, legend=False, scatter_kws={'alpha':0.3}, ci=None)\n",
    "\n",
    "plt.title('Cluster iris')\n",
    "plt.xlabel('Sepal Length')\n",
    "plt.ylabel('Sepal Width')\n",
    "plt.legend(title='Clusters', loc='upper right', labels=['setosa', 'versicolor', 'virginica'])\n",
    "plt.show()"
   ]
  }
 ],
 "metadata": {
  "kernelspec": {
   "display_name": "Python 3 (ipykernel)",
   "language": "python",
   "name": "python3"
  },
  "language_info": {
   "codemirror_mode": {
    "name": "ipython",
    "version": 3
   },
   "file_extension": ".py",
   "mimetype": "text/x-python",
   "name": "python",
   "nbconvert_exporter": "python",
   "pygments_lexer": "ipython3",
   "version": "3.9.6"
  }
 },
 "nbformat": 4,
 "nbformat_minor": 5
}
